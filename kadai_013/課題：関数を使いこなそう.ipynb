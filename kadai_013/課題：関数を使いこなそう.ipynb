{
  "nbformat": 4,
  "nbformat_minor": 0,
  "metadata": {
    "colab": {
      "provenance": []
    },
    "kernelspec": {
      "name": "python3",
      "display_name": "Python 3"
    },
    "language_info": {
      "name": "python"
    }
  },
  "cells": [
    {
      "cell_type": "code",
      "execution_count": 4,
      "metadata": {
        "colab": {
          "base_uri": "https://localhost:8080/"
        },
        "id": "-cJQ4u1Zblub",
        "outputId": "5fd08d95-4daa-4ca3-c906-7139a02670c0"
      },
      "outputs": [
        {
          "output_type": "stream",
          "name": "stdout",
          "text": [
            "121.00000000000001円\n"
          ]
        }
      ],
      "source": [
        "def add_tax(price: int,tax:int) -> float:\n",
        "  total = price * (1 + (tax * 0.01))\n",
        "\n",
        "  print(f\"{total}円\")\n",
        "\n",
        "\n",
        "add_tax(110,10)"
      ]
    }
  ]
}
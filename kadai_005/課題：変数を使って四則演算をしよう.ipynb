{
  "nbformat": 4,
  "nbformat_minor": 0,
  "metadata": {
    "colab": {
      "provenance": []
    },
    "kernelspec": {
      "name": "python3",
      "display_name": "Python 3"
    },
    "language_info": {
      "name": "python"
    }
  },
  "cells": [
    {
      "cell_type": "code",
      "execution_count": 3,
      "metadata": {
        "colab": {
          "base_uri": "https://localhost:8080/"
        },
        "id": "dnFZPjNZJWtN",
        "outputId": "a91e9ef5-2687-4f7b-a022-4619176e27b1"
      },
      "outputs": [
        {
          "output_type": "stream",
          "name": "stdout",
          "text": [
            "75.0㎠\n"
          ]
        }
      ],
      "source": [
        "upper_line = 10\n",
        "under_line = 20\n",
        "height = 5\n",
        "\n",
        "print(str((upper_line + under_line) * height / 2) + \"㎠\" )"
      ]
    }
  ]
}